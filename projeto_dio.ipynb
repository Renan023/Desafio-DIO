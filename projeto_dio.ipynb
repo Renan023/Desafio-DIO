{
  "nbformat": 4,
  "nbformat_minor": 0,
  "metadata": {
    "colab": {
      "provenance": [],
      "authorship_tag": "ABX9TyOQmQkp6g0h4aNjhWArLnv6",
      "include_colab_link": true
    },
    "kernelspec": {
      "name": "python3",
      "display_name": "Python 3"
    },
    "language_info": {
      "name": "python"
    }
  },
  "cells": [
    {
      "cell_type": "markdown",
      "metadata": {
        "id": "view-in-github",
        "colab_type": "text"
      },
      "source": [
        "<a href=\"https://colab.research.google.com/github/Renan023/Desafio-DIO-Unimed-BH/blob/dev/projeto_dio.ipynb\" target=\"_parent\"><img src=\"https://colab.research.google.com/assets/colab-badge.svg\" alt=\"Open In Colab\"/></a>"
      ]
    },
    {
      "cell_type": "code",
      "execution_count": null,
      "metadata": {
        "id": "gx4PpfGqXtLm"
      },
      "outputs": [],
      "source": [
        "import pandas as pd\n",
        "from google.colab import files\n",
        "files.upload()"
      ]
    },
    {
      "cell_type": "code",
      "source": [
        "df=  pd.read_excel('AdventureWorks.xlsx')"
      ],
      "metadata": {
        "id": "jvIxO4iWX2Gu"
      },
      "execution_count": null,
      "outputs": []
    },
    {
      "cell_type": "code",
      "source": [
        "df.head()"
      ],
      "metadata": {
        "colab": {
          "base_uri": "https://localhost:8080/",
          "height": 441
        },
        "id": "cqlGQQZkYWQS",
        "outputId": "33f7616f-f9f4-4110-b86d-677719244a5b"
      },
      "execution_count": null,
      "outputs": [
        {
          "output_type": "execute_result",
          "data": {
            "text/plain": [
              "  Data Emissão Data Entregue  ID Loja  ID Produto       No. Venda  \\\n",
              "0   2008-05-09    2008-05-29      199         384  200805093CS607   \n",
              "1   2008-05-12    2008-05-17      306         384  200805123CS567   \n",
              "2   2008-05-14    2008-05-20      306         384  200805143CS576   \n",
              "3   2008-05-21    2008-05-27      306         384  200805213CS576   \n",
              "4   2008-06-20    2008-06-27      306         384  200806203CS586   \n",
              "\n",
              "             Marca       Fabricante                                Produto  \\\n",
              "0  Adventure Works  Adventure Works  Adventure Works Laptop15.4W M1548 Red   \n",
              "1  Adventure Works  Adventure Works  Adventure Works Laptop15.4W M1548 Red   \n",
              "2  Adventure Works  Adventure Works  Adventure Works Laptop15.4W M1548 Red   \n",
              "3  Adventure Works  Adventure Works  Adventure Works Laptop15.4W M1548 Red   \n",
              "4  Adventure Works  Adventure Works  Adventure Works Laptop15.4W M1548 Red   \n",
              "\n",
              "    Classe  Cor  Quantidade       Preço Unitário          Valor Venda  \\\n",
              "0  Regular  Red           6               758.00             4,548.00   \n",
              "1  Regular  Red           6               758.00             4,548.00   \n",
              "2  Regular  Red           6               758.00             4,548.00   \n",
              "3  Regular  Red           6               758.00             4,548.00   \n",
              "4  Regular  Red           6               758.00             4,548.00   \n",
              "\n",
              "        Custo Unitário  \n",
              "0               348.58  \n",
              "1               348.58  \n",
              "2               348.58  \n",
              "3               348.58  \n",
              "4               348.58  "
            ],
            "text/html": [
              "\n",
              "  <div id=\"df-833959a9-d1ba-470c-acfd-33e97e09f757\">\n",
              "    <div class=\"colab-df-container\">\n",
              "      <div>\n",
              "<style scoped>\n",
              "    .dataframe tbody tr th:only-of-type {\n",
              "        vertical-align: middle;\n",
              "    }\n",
              "\n",
              "    .dataframe tbody tr th {\n",
              "        vertical-align: top;\n",
              "    }\n",
              "\n",
              "    .dataframe thead th {\n",
              "        text-align: right;\n",
              "    }\n",
              "</style>\n",
              "<table border=\"1\" class=\"dataframe\">\n",
              "  <thead>\n",
              "    <tr style=\"text-align: right;\">\n",
              "      <th></th>\n",
              "      <th>Data Emissão</th>\n",
              "      <th>Data Entregue</th>\n",
              "      <th>ID Loja</th>\n",
              "      <th>ID Produto</th>\n",
              "      <th>No. Venda</th>\n",
              "      <th>Marca</th>\n",
              "      <th>Fabricante</th>\n",
              "      <th>Produto</th>\n",
              "      <th>Classe</th>\n",
              "      <th>Cor</th>\n",
              "      <th>Quantidade</th>\n",
              "      <th>Preço Unitário</th>\n",
              "      <th>Valor Venda</th>\n",
              "      <th>Custo Unitário</th>\n",
              "    </tr>\n",
              "  </thead>\n",
              "  <tbody>\n",
              "    <tr>\n",
              "      <th>0</th>\n",
              "      <td>2008-05-09</td>\n",
              "      <td>2008-05-29</td>\n",
              "      <td>199</td>\n",
              "      <td>384</td>\n",
              "      <td>200805093CS607</td>\n",
              "      <td>Adventure Works</td>\n",
              "      <td>Adventure Works</td>\n",
              "      <td>Adventure Works Laptop15.4W M1548 Red</td>\n",
              "      <td>Regular</td>\n",
              "      <td>Red</td>\n",
              "      <td>6</td>\n",
              "      <td>758.00</td>\n",
              "      <td>4,548.00</td>\n",
              "      <td>348.58</td>\n",
              "    </tr>\n",
              "    <tr>\n",
              "      <th>1</th>\n",
              "      <td>2008-05-12</td>\n",
              "      <td>2008-05-17</td>\n",
              "      <td>306</td>\n",
              "      <td>384</td>\n",
              "      <td>200805123CS567</td>\n",
              "      <td>Adventure Works</td>\n",
              "      <td>Adventure Works</td>\n",
              "      <td>Adventure Works Laptop15.4W M1548 Red</td>\n",
              "      <td>Regular</td>\n",
              "      <td>Red</td>\n",
              "      <td>6</td>\n",
              "      <td>758.00</td>\n",
              "      <td>4,548.00</td>\n",
              "      <td>348.58</td>\n",
              "    </tr>\n",
              "    <tr>\n",
              "      <th>2</th>\n",
              "      <td>2008-05-14</td>\n",
              "      <td>2008-05-20</td>\n",
              "      <td>306</td>\n",
              "      <td>384</td>\n",
              "      <td>200805143CS576</td>\n",
              "      <td>Adventure Works</td>\n",
              "      <td>Adventure Works</td>\n",
              "      <td>Adventure Works Laptop15.4W M1548 Red</td>\n",
              "      <td>Regular</td>\n",
              "      <td>Red</td>\n",
              "      <td>6</td>\n",
              "      <td>758.00</td>\n",
              "      <td>4,548.00</td>\n",
              "      <td>348.58</td>\n",
              "    </tr>\n",
              "    <tr>\n",
              "      <th>3</th>\n",
              "      <td>2008-05-21</td>\n",
              "      <td>2008-05-27</td>\n",
              "      <td>306</td>\n",
              "      <td>384</td>\n",
              "      <td>200805213CS576</td>\n",
              "      <td>Adventure Works</td>\n",
              "      <td>Adventure Works</td>\n",
              "      <td>Adventure Works Laptop15.4W M1548 Red</td>\n",
              "      <td>Regular</td>\n",
              "      <td>Red</td>\n",
              "      <td>6</td>\n",
              "      <td>758.00</td>\n",
              "      <td>4,548.00</td>\n",
              "      <td>348.58</td>\n",
              "    </tr>\n",
              "    <tr>\n",
              "      <th>4</th>\n",
              "      <td>2008-06-20</td>\n",
              "      <td>2008-06-27</td>\n",
              "      <td>306</td>\n",
              "      <td>384</td>\n",
              "      <td>200806203CS586</td>\n",
              "      <td>Adventure Works</td>\n",
              "      <td>Adventure Works</td>\n",
              "      <td>Adventure Works Laptop15.4W M1548 Red</td>\n",
              "      <td>Regular</td>\n",
              "      <td>Red</td>\n",
              "      <td>6</td>\n",
              "      <td>758.00</td>\n",
              "      <td>4,548.00</td>\n",
              "      <td>348.58</td>\n",
              "    </tr>\n",
              "  </tbody>\n",
              "</table>\n",
              "</div>\n",
              "      <button class=\"colab-df-convert\" onclick=\"convertToInteractive('df-833959a9-d1ba-470c-acfd-33e97e09f757')\"\n",
              "              title=\"Convert this dataframe to an interactive table.\"\n",
              "              style=\"display:none;\">\n",
              "        \n",
              "  <svg xmlns=\"http://www.w3.org/2000/svg\" height=\"24px\"viewBox=\"0 0 24 24\"\n",
              "       width=\"24px\">\n",
              "    <path d=\"M0 0h24v24H0V0z\" fill=\"none\"/>\n",
              "    <path d=\"M18.56 5.44l.94 2.06.94-2.06 2.06-.94-2.06-.94-.94-2.06-.94 2.06-2.06.94zm-11 1L8.5 8.5l.94-2.06 2.06-.94-2.06-.94L8.5 2.5l-.94 2.06-2.06.94zm10 10l.94 2.06.94-2.06 2.06-.94-2.06-.94-.94-2.06-.94 2.06-2.06.94z\"/><path d=\"M17.41 7.96l-1.37-1.37c-.4-.4-.92-.59-1.43-.59-.52 0-1.04.2-1.43.59L10.3 9.45l-7.72 7.72c-.78.78-.78 2.05 0 2.83L4 21.41c.39.39.9.59 1.41.59.51 0 1.02-.2 1.41-.59l7.78-7.78 2.81-2.81c.8-.78.8-2.07 0-2.86zM5.41 20L4 18.59l7.72-7.72 1.47 1.35L5.41 20z\"/>\n",
              "  </svg>\n",
              "      </button>\n",
              "      \n",
              "  <style>\n",
              "    .colab-df-container {\n",
              "      display:flex;\n",
              "      flex-wrap:wrap;\n",
              "      gap: 12px;\n",
              "    }\n",
              "\n",
              "    .colab-df-convert {\n",
              "      background-color: #E8F0FE;\n",
              "      border: none;\n",
              "      border-radius: 50%;\n",
              "      cursor: pointer;\n",
              "      display: none;\n",
              "      fill: #1967D2;\n",
              "      height: 32px;\n",
              "      padding: 0 0 0 0;\n",
              "      width: 32px;\n",
              "    }\n",
              "\n",
              "    .colab-df-convert:hover {\n",
              "      background-color: #E2EBFA;\n",
              "      box-shadow: 0px 1px 2px rgba(60, 64, 67, 0.3), 0px 1px 3px 1px rgba(60, 64, 67, 0.15);\n",
              "      fill: #174EA6;\n",
              "    }\n",
              "\n",
              "    [theme=dark] .colab-df-convert {\n",
              "      background-color: #3B4455;\n",
              "      fill: #D2E3FC;\n",
              "    }\n",
              "\n",
              "    [theme=dark] .colab-df-convert:hover {\n",
              "      background-color: #434B5C;\n",
              "      box-shadow: 0px 1px 3px 1px rgba(0, 0, 0, 0.15);\n",
              "      filter: drop-shadow(0px 1px 2px rgba(0, 0, 0, 0.3));\n",
              "      fill: #FFFFFF;\n",
              "    }\n",
              "  </style>\n",
              "\n",
              "      <script>\n",
              "        const buttonEl =\n",
              "          document.querySelector('#df-833959a9-d1ba-470c-acfd-33e97e09f757 button.colab-df-convert');\n",
              "        buttonEl.style.display =\n",
              "          google.colab.kernel.accessAllowed ? 'block' : 'none';\n",
              "\n",
              "        async function convertToInteractive(key) {\n",
              "          const element = document.querySelector('#df-833959a9-d1ba-470c-acfd-33e97e09f757');\n",
              "          const dataTable =\n",
              "            await google.colab.kernel.invokeFunction('convertToInteractive',\n",
              "                                                     [key], {});\n",
              "          if (!dataTable) return;\n",
              "\n",
              "          const docLinkHtml = 'Like what you see? Visit the ' +\n",
              "            '<a target=\"_blank\" href=https://colab.research.google.com/notebooks/data_table.ipynb>data table notebook</a>'\n",
              "            + ' to learn more about interactive tables.';\n",
              "          element.innerHTML = '';\n",
              "          dataTable['output_type'] = 'display_data';\n",
              "          await google.colab.output.renderOutput(dataTable, element);\n",
              "          const docLink = document.createElement('div');\n",
              "          docLink.innerHTML = docLinkHtml;\n",
              "          element.appendChild(docLink);\n",
              "        }\n",
              "      </script>\n",
              "    </div>\n",
              "  </div>\n",
              "  "
            ]
          },
          "metadata": {},
          "execution_count": 50
        }
      ]
    },
    {
      "cell_type": "code",
      "source": [
        "df['Custo total'] = df['Custo Unitário']*df['Quantidade']\n",
        "df['Tempo de entrega'] = (df['Data Entregue']-df['Data Emissão']).dt.days"
      ],
      "metadata": {
        "id": "upmjUDsnYdo3"
      },
      "execution_count": null,
      "outputs": []
    },
    {
      "cell_type": "code",
      "source": [
        "df['Lucro']= df['Valor Venda']-df['Custo total']"
      ],
      "metadata": {
        "id": "bA8Nke8vZZVY"
      },
      "execution_count": null,
      "outputs": []
    },
    {
      "cell_type": "code",
      "source": [
        "df['ID Loja'] = df['ID Loja'].astype('object')\n",
        "df['ID Produto'] = df['ID Produto'].astype('object')"
      ],
      "metadata": {
        "id": "79832ZH1aJck"
      },
      "execution_count": null,
      "outputs": []
    },
    {
      "cell_type": "code",
      "source": [
        "df.dtypes"
      ],
      "metadata": {
        "colab": {
          "base_uri": "https://localhost:8080/"
        },
        "id": "F-_Q3Pb9agbN",
        "outputId": "da670a73-40f0-4d11-a8c3-7eee7861a1b6"
      },
      "execution_count": null,
      "outputs": [
        {
          "output_type": "execute_result",
          "data": {
            "text/plain": [
              "Data Emissão        datetime64[ns]\n",
              "Data Entregue       datetime64[ns]\n",
              "ID Loja                     object\n",
              "ID Produto                  object\n",
              "No. Venda                   object\n",
              "Marca                       object\n",
              "Fabricante                  object\n",
              "Produto                     object\n",
              "Classe                      object\n",
              "Cor                         object\n",
              "Quantidade                   int64\n",
              "Preço Unitário             float64\n",
              "Valor Venda                float64\n",
              "Custo Unitário             float64\n",
              "Custo total                float64\n",
              "Tempo de entrega             int64\n",
              "Lucro                      float64\n",
              "dtype: object"
            ]
          },
          "metadata": {},
          "execution_count": 12
        }
      ]
    },
    {
      "cell_type": "code",
      "source": [
        "df.groupby([df['Data Emissão'].dt.year, 'Marca'])['Valor Venda'].sum()#Quero saber a venda das marcas que possuo"
      ],
      "metadata": {
        "colab": {
          "base_uri": "https://localhost:8080/"
        },
        "id": "29n6qwEdc2vp",
        "outputId": "781fbd6c-0a09-411f-a1bd-a6e39b0e6399"
      },
      "execution_count": null,
      "outputs": [
        {
          "output_type": "execute_result",
          "data": {
            "text/plain": [
              "Data Emissão  Marca          \n",
              "2008          Adventure Works             623,151.80\n",
              "              Contoso                     130,897.97\n",
              "              Fabrikam                  2,433,557.88\n",
              "2009          Adventure Works             833,451.32\n",
              "              Contoso                     319,498.58\n",
              "              Fabrikam                  1,644,048.59\n",
              "Name: Valor Venda, dtype: float64"
            ]
          },
          "metadata": {},
          "execution_count": 18
        }
      ]
    },
    {
      "cell_type": "code",
      "source": [
        "pd.options.display.float_format = '{:20,.2f}'.format#arrendondamento "
      ],
      "metadata": {
        "id": "xXkaKP5OeBty"
      },
      "execution_count": null,
      "outputs": []
    },
    {
      "cell_type": "code",
      "source": [
        "df.groupby('Produto')['Valor Venda'].sum().plot.bar(title ='Produto mais vendido');"
      ],
      "metadata": {
        "colab": {
          "base_uri": "https://localhost:8080/",
          "height": 540
        },
        "id": "b_CFuHU1eSIy",
        "outputId": "220867eb-c6cf-421e-8d6c-12d7d2fecb26"
      },
      "execution_count": null,
      "outputs": [
        {
          "output_type": "display_data",
          "data": {
            "text/plain": [
              "<Figure size 432x288 with 1 Axes>"
            ],
            "image/png": "[encoded data removed]"
          },
          "metadata": {
            "needs_background": "light"
          }
        }
      ]
    },
    {
      "cell_type": "code",
      "source": [
        "Pvendido = df.groupby('Produto')['Valor Venda'].sum().sort_values(ascending=False).reset_index()\n",
        "Pvendido"
      ],
      "metadata": {
        "colab": {
          "base_uri": "https://localhost:8080/",
          "height": 332
        },
        "id": "n-evTqWYfdIx",
        "outputId": "10222b46-b9ec-4fa7-e386-e5575218ef05"
      },
      "execution_count": null,
      "outputs": [
        {
          "output_type": "execute_result",
          "data": {
            "text/plain": [
              "                                           Produto          Valor Venda\n",
              "0        Fabrikam Trendsetter 2/3'' 17mm X100 Grey           961,037.00\n",
              "1       Fabrikam Trendsetter 2/3'' 17mm X100 Black           821,396.80\n",
              "2      Fabrikam Trendsetter 1/3'' 8.5mm X200 Black           799,809.39\n",
              "3       Fabrikam Trendsetter 1/3'' 8.5mm X200 Grey           781,334.20\n",
              "4          Adventure Works Laptop15.4W M1548 Black           746,789.18\n",
              "5      Fabrikam Trendsetter 1/3'' 8.5mm X200 White           714,029.08\n",
              "6            Adventure Works Laptop15.4W M1548 Red           709,813.94\n",
              "7  Headphone Adapter for Contoso Phone E130 Silver           226,591.38\n",
              "8   Headphone Adapter for Contoso Phone E130 White           223,805.17"
            ],
            "text/html": [
              "\n",
              "  <div id=\"df-168c7158-330a-4611-934a-30e721025a89\">\n",
              "    <div class=\"colab-df-container\">\n",
              "      <div>\n",
              "<style scoped>\n",
              "    .dataframe tbody tr th:only-of-type {\n",
              "        vertical-align: middle;\n",
              "    }\n",
              "\n",
              "    .dataframe tbody tr th {\n",
              "        vertical-align: top;\n",
              "    }\n",
              "\n",
              "    .dataframe thead th {\n",
              "        text-align: right;\n",
              "    }\n",
              "</style>\n",
              "<table border=\"1\" class=\"dataframe\">\n",
              "  <thead>\n",
              "    <tr style=\"text-align: right;\">\n",
              "      <th></th>\n",
              "      <th>Produto</th>\n",
              "      <th>Valor Venda</th>\n",
              "    </tr>\n",
              "  </thead>\n",
              "  <tbody>\n",
              "    <tr>\n",
              "      <th>0</th>\n",
              "      <td>Fabrikam Trendsetter 2/3'' 17mm X100 Grey</td>\n",
              "      <td>961,037.00</td>\n",
              "    </tr>\n",
              "    <tr>\n",
              "      <th>1</th>\n",
              "      <td>Fabrikam Trendsetter 2/3'' 17mm X100 Black</td>\n",
              "      <td>821,396.80</td>\n",
              "    </tr>\n",
              "    <tr>\n",
              "      <th>2</th>\n",
              "      <td>Fabrikam Trendsetter 1/3'' 8.5mm X200 Black</td>\n",
              "      <td>799,809.39</td>\n",
              "    </tr>\n",
              "    <tr>\n",
              "      <th>3</th>\n",
              "      <td>Fabrikam Trendsetter 1/3'' 8.5mm X200 Grey</td>\n",
              "      <td>781,334.20</td>\n",
              "    </tr>\n",
              "    <tr>\n",
              "      <th>4</th>\n",
              "      <td>Adventure Works Laptop15.4W M1548 Black</td>\n",
              "      <td>746,789.18</td>\n",
              "    </tr>\n",
              "    <tr>\n",
              "      <th>5</th>\n",
              "      <td>Fabrikam Trendsetter 1/3'' 8.5mm X200 White</td>\n",
              "      <td>714,029.08</td>\n",
              "    </tr>\n",
              "    <tr>\n",
              "      <th>6</th>\n",
              "      <td>Adventure Works Laptop15.4W M1548 Red</td>\n",
              "      <td>709,813.94</td>\n",
              "    </tr>\n",
              "    <tr>\n",
              "      <th>7</th>\n",
              "      <td>Headphone Adapter for Contoso Phone E130 Silver</td>\n",
              "      <td>226,591.38</td>\n",
              "    </tr>\n",
              "    <tr>\n",
              "      <th>8</th>\n",
              "      <td>Headphone Adapter for Contoso Phone E130 White</td>\n",
              "      <td>223,805.17</td>\n",
              "    </tr>\n",
              "  </tbody>\n",
              "</table>\n",
              "</div>\n",
              "      <button class=\"colab-df-convert\" onclick=\"convertToInteractive('df-168c7158-330a-4611-934a-30e721025a89')\"\n",
              "              title=\"Convert this dataframe to an interactive table.\"\n",
              "              style=\"display:none;\">\n",
              "        \n",
              "  <svg xmlns=\"http://www.w3.org/2000/svg\" height=\"24px\"viewBox=\"0 0 24 24\"\n",
              "       width=\"24px\">\n",
              "    <path d=\"M0 0h24v24H0V0z\" fill=\"none\"/>\n",
              "    <path d=\"M18.56 5.44l.94 2.06.94-2.06 2.06-.94-2.06-.94-.94-2.06-.94 2.06-2.06.94zm-11 1L8.5 8.5l.94-2.06 2.06-.94-2.06-.94L8.5 2.5l-.94 2.06-2.06.94zm10 10l.94 2.06.94-2.06 2.06-.94-2.06-.94-.94-2.06-.94 2.06-2.06.94z\"/><path d=\"M17.41 7.96l-1.37-1.37c-.4-.4-.92-.59-1.43-.59-.52 0-1.04.2-1.43.59L10.3 9.45l-7.72 7.72c-.78.78-.78 2.05 0 2.83L4 21.41c.39.39.9.59 1.41.59.51 0 1.02-.2 1.41-.59l7.78-7.78 2.81-2.81c.8-.78.8-2.07 0-2.86zM5.41 20L4 18.59l7.72-7.72 1.47 1.35L5.41 20z\"/>\n",
              "  </svg>\n",
              "      </button>\n",
              "      \n",
              "  <style>\n",
              "    .colab-df-container {\n",
              "      display:flex;\n",
              "      flex-wrap:wrap;\n",
              "      gap: 12px;\n",
              "    }\n",
              "\n",
              "    .colab-df-convert {\n",
              "      background-color: #E8F0FE;\n",
              "      border: none;\n",
              "      border-radius: 50%;\n",
              "      cursor: pointer;\n",
              "      display: none;\n",
              "      fill: #1967D2;\n",
              "      height: 32px;\n",
              "      padding: 0 0 0 0;\n",
              "      width: 32px;\n",
              "    }\n",
              "\n",
              "    .colab-df-convert:hover {\n",
              "      background-color: #E2EBFA;\n",
              "      box-shadow: 0px 1px 2px rgba(60, 64, 67, 0.3), 0px 1px 3px 1px rgba(60, 64, 67, 0.15);\n",
              "      fill: #174EA6;\n",
              "    }\n",
              "\n",
              "    [theme=dark] .colab-df-convert {\n",
              "      background-color: #3B4455;\n",
              "      fill: #D2E3FC;\n",
              "    }\n",
              "\n",
              "    [theme=dark] .colab-df-convert:hover {\n",
              "      background-color: #434B5C;\n",
              "      box-shadow: 0px 1px 3px 1px rgba(0, 0, 0, 0.15);\n",
              "      filter: drop-shadow(0px 1px 2px rgba(0, 0, 0, 0.3));\n",
              "      fill: #FFFFFF;\n",
              "    }\n",
              "  </style>\n",
              "\n",
              "      <script>\n",
              "        const buttonEl =\n",
              "          document.querySelector('#df-168c7158-330a-4611-934a-30e721025a89 button.colab-df-convert');\n",
              "        buttonEl.style.display =\n",
              "          google.colab.kernel.accessAllowed ? 'block' : 'none';\n",
              "\n",
              "        async function convertToInteractive(key) {\n",
              "          const element = document.querySelector('#df-168c7158-330a-4611-934a-30e721025a89');\n",
              "          const dataTable =\n",
              "            await google.colab.kernel.invokeFunction('convertToInteractive',\n",
              "                                                     [key], {});\n",
              "          if (!dataTable) return;\n",
              "\n",
              "          const docLinkHtml = 'Like what you see? Visit the ' +\n",
              "            '<a target=\"_blank\" href=https://colab.research.google.com/notebooks/data_table.ipynb>data table notebook</a>'\n",
              "            + ' to learn more about interactive tables.';\n",
              "          element.innerHTML = '';\n",
              "          dataTable['output_type'] = 'display_data';\n",
              "          await google.colab.output.renderOutput(dataTable, element);\n",
              "          const docLink = document.createElement('div');\n",
              "          docLink.innerHTML = docLinkHtml;\n",
              "          element.appendChild(docLink);\n",
              "        }\n",
              "      </script>\n",
              "    </div>\n",
              "  </div>\n",
              "  "
            ]
          },
          "metadata": {},
          "execution_count": 25
        }
      ]
    },
    {
      "cell_type": "code",
      "source": [
        "df.groupby([df['Data Emissão'].dt.month, 'Marca'])['Valor Venda'].sum()#Valores de quanto cada marca vendeu no mês no ano de 2008"
      ],
      "metadata": {
        "colab": {
          "base_uri": "https://localhost:8080/"
        },
        "id": "QNdfbM9Nfu3d",
        "outputId": "b419498c-15fa-465f-f97b-67e3088155bc"
      },
      "execution_count": null,
      "outputs": [
        {
          "output_type": "execute_result",
          "data": {
            "text/plain": [
              "Data Emissão  Marca          \n",
              "1             Adventure Works              87,662.70\n",
              "              Contoso                      17,670.31\n",
              "              Fabrikam                    254,913.30\n",
              "2             Adventure Works             215,931.46\n",
              "              Contoso                      19,506.87\n",
              "              Fabrikam                    331,874.39\n",
              "3             Adventure Works             108,697.20\n",
              "              Contoso                      14,781.20\n",
              "              Fabrikam                    304,216.10\n",
              "4             Adventure Works              45,305.66\n",
              "              Contoso                       7,576.42\n",
              "              Fabrikam                    235,488.38\n",
              "5             Adventure Works             106,423.20\n",
              "              Contoso                      20,859.12\n",
              "              Fabrikam                    365,660.40\n",
              "6             Adventure Works             158,043.00\n",
              "              Contoso                      84,299.62\n",
              "              Fabrikam                    597,637.20\n",
              "7             Adventure Works             185,710.00\n",
              "              Contoso                      46,033.92\n",
              "              Fabrikam                    415,587.40\n",
              "8             Adventure Works              44,115.60\n",
              "              Contoso                      23,217.76\n",
              "              Fabrikam                    175,243.20\n",
              "9             Adventure Works              91,187.40\n",
              "              Contoso                      32,835.13\n",
              "              Fabrikam                    285,916.80\n",
              "10            Adventure Works             126,434.40\n",
              "              Contoso                      53,922.02\n",
              "              Fabrikam                    360,875.20\n",
              "11            Adventure Works             137,880.20\n",
              "              Contoso                      56,679.26\n",
              "              Fabrikam                    314,409.60\n",
              "12            Adventure Works             149,212.30\n",
              "              Contoso                      73,014.91\n",
              "              Fabrikam                    435,784.50\n",
              "Name: Valor Venda, dtype: float64"
            ]
          },
          "metadata": {},
          "execution_count": 38
        }
      ]
    },
    {
      "cell_type": "code",
      "source": [
        "df.groupby([df['Data Emissão'].dt.month])['Lucro'].sum().plot.bar(title = 'Lucro mensal no ano de 2008');"
      ],
      "metadata": {
        "colab": {
          "base_uri": "https://localhost:8080/",
          "height": 298
        },
        "id": "_yYiwqVRiy5f",
        "outputId": "4b63b561-f92a-43ea-ecdc-1cb73713d9e9"
      },
      "execution_count": null,
      "outputs": [
        {
          "output_type": "display_data",
          "data": {
            "text/plain": [
              "<Figure size 432x288 with 1 Axes>"
            ],
            "image/png": "[encoded data removed]"
          },
          "metadata": {
            "needs_background": "light"
          }
        }
      ]
    },
    {
      "cell_type": "code",
      "source": [
        "df.groupby([df['Data Emissão'].dt.month])['Lucro'].sum()"
      ],
      "metadata": {
        "colab": {
          "base_uri": "https://localhost:8080/"
        },
        "id": "8C4uuqp-kBzv",
        "outputId": "3b16e39c-d42a-40ff-97be-eea4709c307e"
      },
      "execution_count": null,
      "outputs": [
        {
          "output_type": "execute_result",
          "data": {
            "text/plain": [
              "Data Emissão\n",
              "1              203,352.48\n",
              "2              318,185.81\n",
              "3              248,184.57\n",
              "4              176,670.94\n",
              "5              310,306.94\n",
              "6              512,794.78\n",
              "7              392,852.14\n",
              "8              143,780.53\n",
              "9              244,577.05\n",
              "10             325,464.42\n",
              "11             270,004.97\n",
              "12             351,648.45\n",
              "Name: Lucro, dtype: float64"
            ]
          },
          "metadata": {},
          "execution_count": 42
        }
      ]
    },
    {
      "cell_type": "code",
      "source": [
        "df['Tempo de entrega'].min()"
      ],
      "metadata": {
        "colab": {
          "base_uri": "https://localhost:8080/"
        },
        "id": "7YcnTdOkkiTZ",
        "outputId": "ecd0eebe-57a0-4af1-d902-55abbb9be93e"
      },
      "execution_count": null,
      "outputs": [
        {
          "output_type": "execute_result",
          "data": {
            "text/plain": [
              "4"
            ]
          },
          "metadata": {},
          "execution_count": 43
        }
      ]
    },
    {
      "cell_type": "code",
      "source": [
        "round(df['Tempo de entrega'].mean())"
      ],
      "metadata": {
        "colab": {
          "base_uri": "https://localhost:8080/"
        },
        "id": "6HhnPszKk2_C",
        "outputId": "f089a45e-e4b0-4da2-a147-6bda8a6148a3"
      },
      "execution_count": null,
      "outputs": [
        {
          "output_type": "execute_result",
          "data": {
            "text/plain": [
              "9"
            ]
          },
          "metadata": {},
          "execution_count": 46
        }
      ]
    },
    {
      "cell_type": "code",
      "source": [
        "df['Tempo de entrega'].max()"
      ],
      "metadata": {
        "colab": {
          "base_uri": "https://localhost:8080/"
        },
        "id": "QvxPgTp8la_8",
        "outputId": "91022e0a-0af4-485d-9019-00048086605c"
      },
      "execution_count": null,
      "outputs": [
        {
          "output_type": "execute_result",
          "data": {
            "text/plain": [
              "20"
            ]
          },
          "metadata": {},
          "execution_count": 47
        }
      ]
    }
  ]
}